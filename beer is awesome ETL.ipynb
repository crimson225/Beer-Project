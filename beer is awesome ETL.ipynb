{
 "cells": [
  {
   "cell_type": "code",
   "execution_count": null,
   "metadata": {},
   "outputs": [],
   "source": [
    "# This is the code for the api import to mongo from brewerydb\n",
    "\n",
    "# API Keys Removed\n",
    "# PaperStraws2 Prod -xxxxxxxxxxxxxxxxxx\n",
    "# PaperStraws1 Prod - xxxxxxxxxxxxxxxxxxxxx\n",
    "# PaperStraws1 SB - xxxxxxxxxxxxxxxxxxxxxxxxx\n",
    "\n",
    "import pandas as pd\n",
    "from pymongo import MongoClient\n",
    "import requests\n",
    "import numpy as np\n",
    "import urllib, json\n",
    "from flatten_json import flatten\n",
    "\n",
    "client = MongoClient ('192.168.0.7', 27017, username='paperstraws', password='xxxxxxx', authSource='xxxxx', authMechanism='SCRAM-SHA-256')\n",
    "db = client['xxxxxx']\n",
    "# brewery collection\n",
    "\n",
    "# beer collection\n",
    "collection_beersdb = db['xxxxxx']\n",
    "\n",
    "# We will loop over the api to make calls 200 times (daily limit) to gather 50 records for each interation\n",
    "for x in range(275, 396):\n",
    "    #prod 1 beers\n",
    "    #url = f\"https://api.brewerydb.com/v2/beers/?key=xxxxxxxxxxxxx&withBreweries=y&withlocations=y&p={x}&availableId=1\"\n",
    "    \n",
    "    #prod 2 breweries\n",
    "    #url = f\"https://api.brewerydb.com/v2/locations/?key=xxxxxxxxxxxxxxxx&withBreweries=y&withIngredients=y&p={x}&availableId=1\"\n",
    "    \n",
    "    #prod 2 beers\n",
    "    #url = f\"https://api.brewerydb.com/v2/beers/?key=xxxxxxxxxxxxxxxxxxxxx&withBreweries=y&withIngredients=y&p={x}&availableId=1\"\n",
    "    \n",
    "    #sb\n",
    "    url = f\"https://sandbox-api.brewerydb.com/v2/breweries/?key=xxxxxxxxxxxxxxxxxxxxxxxxxxxxx&withBreweries=y&p={x}&withLocations=y&availableId=1\"\n",
    "    \n",
    "    results = requests.get(url)\n",
    "    results = results.json()  \n",
    "\n",
    "    print(f\"Now parsing page:{x}\")\n",
    "    \n",
    "    for y in range(0,50):\n",
    "        dataToImport = flatten(results['data'][y])\n",
    "        #brewerydb collection\n",
    "        #collection_brewerydb.insert_one(dataToImport)\n",
    "        \n",
    "        #beersdbcollection\n",
    "        #collection_beersdb.insert_one(dataToImport)\n",
    "    \n",
    "print(\"DONE\")"
   ]
  },
  {
   "cell_type": "code",
   "execution_count": null,
   "metadata": {},
   "outputs": [],
   "source": [
    "# RateBeer CSV Import\n",
    "import json\n",
    "import pymongo\n",
    "import pandas as pd\n",
    "myclient = pymongo.MongoClient()\n",
    "\n",
    "df = pd.read_csv('C:/Users/spdow/Documents/ratebeer.csv',encoding = 'ISO-8859-1')   # loading csv file\n",
    "df.to_json('ratebeer.json')                               # saving to json file\n",
    "jdf = open('ratebeer.json').read()                        # loading the json file \n",
    "data = json.loads(jdf) \n",
    "\n",
    "\n",
    "client = MongoClient ('192.168.0.171', 27017, username='paperstraws', password='xxxxx', authSource='xxxxxx', authMechanism='SCRAM-SHA-256')\n",
    "db = client['xxxxxx']\n",
    "collection_ratebeer = db['xxxxxx']\n",
    "\n",
    "collection_ratebeer.insert_many(list(json))"
   ]
  }
 ],
 "metadata": {
  "kernelspec": {
   "display_name": "Python 3",
   "language": "python",
   "name": "python3"
  },
  "language_info": {
   "codemirror_mode": {
    "name": "ipython",
    "version": 3
   },
   "file_extension": ".py",
   "mimetype": "text/x-python",
   "name": "python",
   "nbconvert_exporter": "python",
   "pygments_lexer": "ipython3",
   "version": "3.7.6"
  }
 },
 "nbformat": 4,
 "nbformat_minor": 4
}
